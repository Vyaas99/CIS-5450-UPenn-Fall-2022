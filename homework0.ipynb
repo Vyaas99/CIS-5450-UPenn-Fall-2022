{
  "nbformat": 4,
  "nbformat_minor": 0,
  "metadata": {
    "colab": {
      "provenance": [],
      "collapsed_sections": []
    },
    "kernelspec": {
      "name": "python3",
      "display_name": "Python 3"
    }
  },
  "cells": [
    {
      "cell_type": "markdown",
      "metadata": {
        "id": "whOFv2wpMlhb"
      },
      "source": [
        "# Homework 0: Getting Started (10 points)\n",
        "\n",
        "## Due September 7, 2022 by 10pm (with grace period)\n",
        "\n",
        "For this initial assignment, our primary goal is to familiarize you with the Jupyter/Python and Apache Spark \"software stack\" we will use through the semester.\n",
        "\n",
        "**This class assumes you are comfortable programming in Python.**\n",
        "\n",
        "We will be using **Google Colab** to do the majority of work in the class, since it offers a standard environment regardless of your personal machine. This very file is a Jupyter **notebook** that you can edit and use to run Python code. Its file extension is “.ipynb” for (I)nteractive (Py)thon (N)ote(b)ook. \n",
        "\n",
        "Notebooks are divided into Cells. Some Cells are text (written in Markdown). You won’t need to edit these. The other Cells are executable code and will have `[ ]` to the left of them. After running one of these Cells, a number will appear inside the brackets, indicating the order in which the Cells were run.\n",
        "\n",
        "\n",
        "<br>\n",
        "\n",
        "#### **Please make a COPY of this notebook!**\n",
        "\n",
        "Please make a COPY of this notebook when you are getting started; nobody should have edit privileges which means that while you can type and run cells here, **it will NOT save**. Make a copy to your own Colab!"
      ]
    },
    {
      "cell_type": "markdown",
      "metadata": {
        "id": "jK6AEVjH0_ws"
      },
      "source": [
        "# Part 1: Cloud Environment Setup\n",
        "\n",
        "If you've gotten to this point, you have already successfully logged into Google Colab!  Most likely you'll want to ``Save a Copy in Drive`` for your own use as you edit your code.  We suggest you don't rename the file as you do so.\n",
        "\n",
        "Since this initial homework uses the whole \"big data\" stack, including Apache Spark, we will first need to do some software setup.\n",
        "\n",
        "Generally speaking we will be running command-line options (eg to install software on the host machine) using the `!` operation, and we will be using `pip` to install Python libraries.\n",
        "\n"
      ]
    },
    {
      "cell_type": "markdown",
      "metadata": {
        "id": "2VnR6DBF1BE6"
      },
      "source": [
        "## 1.1 Installing Spark on Google Colab\n",
        "\n",
        "For big data analysis on a cluster, we'll need to learn to use Apache Spark.  You don't need to fully follow the details here to install Spark on Colab, but you do need to execute the cell!\n",
        "\n",
        "Select it and hit [Shift]-[Enter] to run, or click on the \"play\" triangle to the left."
      ]
    },
    {
      "cell_type": "code",
      "metadata": {
        "id": "Xm4lrIFhMVHR",
        "colab": {
          "base_uri": "https://localhost:8080/"
        },
        "outputId": "4b561cd0-e278-418a-b7a7-2754f52c2a93"
      },
      "source": [
        "## Let's install Apache Spark on Colab\n",
        "\n",
        "!wget -nc https://downloads.apache.org/spark/spark-3.2.2/spark-3.2.2-bin-hadoop3.2.tgz\n",
        "!tar xf spark-3.2.2-bin-hadoop3.2.tgz\n",
        "!pip install findspark\n",
        "\n",
        "import os\n",
        "\n",
        "os.environ[\"SPARK_HOME\"] = \"/content/spark-3.2.2-bin-hadoop3.2\""
      ],
      "execution_count": 1,
      "outputs": [
        {
          "output_type": "stream",
          "name": "stdout",
          "text": [
            "File ‘spark-3.2.2-bin-hadoop3.2.tgz’ already there; not retrieving.\n",
            "\n",
            "Looking in indexes: https://pypi.org/simple, https://us-python.pkg.dev/colab-wheels/public/simple/\n",
            "Requirement already satisfied: findspark in /usr/local/lib/python3.7/dist-packages (2.0.1)\n"
          ]
        }
      ]
    },
    {
      "cell_type": "markdown",
      "metadata": {
        "id": "g3Y85s0L9vX5"
      },
      "source": [
        "Good, the software should be installed.\n",
        "\n",
        "Now you need to run three more Cells that configure Jupyter for Apache Spark, set up the environment, and connect to Spark."
      ]
    },
    {
      "cell_type": "code",
      "metadata": {
        "id": "N69M3ZWgMYXH"
      },
      "source": [
        "import findspark\n",
        "\n",
        "findspark.init()\n",
        "\n",
        "import pyspark\n",
        "from pyspark.sql import SparkSession\n",
        "from pyspark.sql.types import *\n",
        "import pyspark.sql.functions as F\n",
        "from pyspark.sql import SQLContext"
      ],
      "execution_count": 2,
      "outputs": []
    },
    {
      "cell_type": "code",
      "metadata": {
        "id": "Qmxb7iPIMZyH",
        "colab": {
          "base_uri": "https://localhost:8080/"
        },
        "outputId": "67dd60f9-9e97-4158-ecd6-9551ea3067fe"
      },
      "source": [
        "try:\n",
        "    if(spark == None):\n",
        "        spark = SparkSession.builder.appName('Initial').getOrCreate()\n",
        "        sqlContext=SQLContext(spark)\n",
        "except NameError:\n",
        "    spark = SparkSession.builder.appName('Initial').getOrCreate()\n",
        "    sqlContext=SQLContext(spark)\n"
      ],
      "execution_count": 3,
      "outputs": [
        {
          "output_type": "stream",
          "name": "stderr",
          "text": [
            "/content/spark-3.2.2-bin-hadoop3.2/python/pyspark/sql/context.py:79: FutureWarning: Deprecated in 3.0.0. Use SparkSession.builder.getOrCreate() instead.\n",
            "  FutureWarning\n"
          ]
        }
      ]
    },
    {
      "cell_type": "markdown",
      "metadata": {
        "id": "Tn3wuswcj3fw"
      },
      "source": [
        "## 1.2 Autograding and the PennGrader\n",
        "\n",
        "<img align=\"right\" src = \"https://imgur.com/rNd3gIg.png\" width= \"200\"/>\n",
        "\n",
        "Next you'll need to set up the PennGrader, which we'll be using throughout the semester to help you with your homeworks.\n",
        "\n",
        "PennGrader is not only **awesome**, but it was built by an equally awesome person: CIS 5450 alumnus, Leo Murri, who later became a TA for the course.  Today Leo works as a data scientist at Amazon!\n",
        "\n",
        "PennGrader was developed to provide students with *instant* feedback on their answer. You can submit your answer and know whether it's right or wrong instantly. We then record your most recent answer in our backend database."
      ]
    },
    {
      "cell_type": "code",
      "metadata": {
        "id": "AFixFKy2kAev"
      },
      "source": [
        "%%capture\n",
        "!pip install penngrader\n"
      ],
      "execution_count": 4,
      "outputs": []
    },
    {
      "cell_type": "markdown",
      "metadata": {
        "id": "_PFKrty7lK5N"
      },
      "source": [
        "Let's try it out! Fill in the cell below with your 8-digit Penn ID and then run the following cell to initialize the grader."
      ]
    },
    {
      "cell_type": "code",
      "metadata": {
        "id": "kcS79C9blJBm"
      },
      "source": [
        "#PLEASE ENSURE YOUR PENN-ID IS ENTERED CORRECTLY. IF NOT, THE AUTOGRADER WON'T KNOW WHO \n",
        "#TO ASSIGN POINTS TO YOU IN OUR BACKEND\n",
        "STUDENT_ID = 20723731 # YOUR PENN-ID GOES HERE AS AN INTEGER#"
      ],
      "execution_count": 5,
      "outputs": []
    },
    {
      "cell_type": "code",
      "metadata": {
        "id": "wd0oMe8glNnA",
        "colab": {
          "base_uri": "https://localhost:8080/"
        },
        "outputId": "136ea1ff-e9f8-4ad5-c9ec-e1a03da9e4be"
      },
      "source": [
        "import penngrader.grader\n",
        "\n",
        "grader = penngrader.grader.PennGrader(homework_id = 'CIS_5450_Fall22_HW0', student_id = STUDENT_ID)"
      ],
      "execution_count": 6,
      "outputs": [
        {
          "output_type": "stream",
          "name": "stdout",
          "text": [
            "PennGrader initialized with Student ID: 20723731\n",
            "\n",
            "Make sure this correct or we will not be able to store your grade\n"
          ]
        }
      ]
    },
    {
      "cell_type": "markdown",
      "metadata": {
        "id": "KVm1kMgrgG6E"
      },
      "source": [
        "# Part 2: Your First CIS 5450 Notebook\n",
        "\n",
        "The rest of the assignment will try to illustrate a few aspects of data analytics...  Don't be concerned if you don't yet know all of the operations, libraries, etc. because that's what we'll be covering soon!"
      ]
    },
    {
      "cell_type": "markdown",
      "metadata": {
        "id": "hpAxQ5Ac1O5v"
      },
      "source": [
        "## 2.1 A Simple Program to Read from the Web and Invoke Spark\n",
        "\n",
        "The cell below uses the **Pandas** library to read a table from the given web page (the Wikipedia information on films in the year 2010).  The code loads this into a list of **DataFrame**s called `films_2010`.  We then pull the table at index 3, then do some simple **data wrangling** on `top_films` to set up the appropriate types.\n",
        "\n",
        "Select the Cell below and then select the Run button which appeared over the brackets."
      ]
    },
    {
      "cell_type": "code",
      "metadata": {
        "id": "-IG5hBbY97J8",
        "colab": {
          "base_uri": "https://localhost:8080/"
        },
        "outputId": "7e0b6378-c742-4710-b1e2-44ab5e62f623"
      },
      "source": [
        "!pip install money-parser"
      ],
      "execution_count": 7,
      "outputs": [
        {
          "output_type": "stream",
          "name": "stdout",
          "text": [
            "Looking in indexes: https://pypi.org/simple, https://us-python.pkg.dev/colab-wheels/public/simple/\n",
            "Requirement already satisfied: money-parser in /usr/local/lib/python3.7/dist-packages (0.0.1)\n"
          ]
        }
      ]
    },
    {
      "cell_type": "code",
      "metadata": {
        "id": "K0c5Tsrjhou0",
        "colab": {
          "base_uri": "https://localhost:8080/",
          "height": 394
        },
        "outputId": "66618bcb-f0d8-4df8-8631-0727f723278b"
      },
      "source": [
        "import pandas as pd\n",
        "from money_parser import price_dec\n",
        "\n",
        "def extract_number(x):\n",
        "  return round(price_dec(x) / 1000000, 2)\n",
        "\n",
        "films_2010 = pd.read_html('https://en.wikipedia.org/wiki/2010_in_film')\n",
        "\n",
        "top_films = films_2010[3]\n",
        "\n",
        "top_films.set_index('Rank', inplace=True)\n",
        "\n",
        "top_films['Revenue (millions)'] = top_films['Worldwide gross'].apply(extract_number)\n",
        "\n",
        "top_films"
      ],
      "execution_count": 8,
      "outputs": [
        {
          "output_type": "execute_result",
          "data": {
            "text/plain": [
              "                                              Title   Distributor  \\\n",
              "Rank                                                                \n",
              "1                                       Toy Story 3        Disney   \n",
              "2                               Alice in Wonderland        Disney   \n",
              "3     Harry Potter and the Deathly Hallows - Part 1  Warner Bros.   \n",
              "4                                         Inception  Warner Bros.   \n",
              "5                               Shrek Forever After     Paramount   \n",
              "6                        The Twilight Saga: Eclipse        Summit   \n",
              "7                                        Iron Man 2     Paramount   \n",
              "8                                           Tangled        Disney   \n",
              "9                                     Despicable Me     Universal   \n",
              "10                         How to Train Your Dragon     Paramount   \n",
              "\n",
              "     Worldwide gross Revenue (millions)  \n",
              "Rank                                     \n",
              "1     $1,066,969,703            1066.97  \n",
              "2     $1,025,467,110            1025.47  \n",
              "3       $976,536,918             976.54  \n",
              "4       $826,137,188             826.14  \n",
              "5       $752,600,867             752.60  \n",
              "6       $698,491,347             698.49  \n",
              "7       $623,933,331             623.93  \n",
              "8       $592,461,732             592.46  \n",
              "9       $543,113,985             543.11  \n",
              "10      $494,878,759             494.88  "
            ],
            "text/html": [
              "\n",
              "  <div id=\"df-65a6ce26-72d3-4441-9262-8aedc0ee9bc0\">\n",
              "    <div class=\"colab-df-container\">\n",
              "      <div>\n",
              "<style scoped>\n",
              "    .dataframe tbody tr th:only-of-type {\n",
              "        vertical-align: middle;\n",
              "    }\n",
              "\n",
              "    .dataframe tbody tr th {\n",
              "        vertical-align: top;\n",
              "    }\n",
              "\n",
              "    .dataframe thead th {\n",
              "        text-align: right;\n",
              "    }\n",
              "</style>\n",
              "<table border=\"1\" class=\"dataframe\">\n",
              "  <thead>\n",
              "    <tr style=\"text-align: right;\">\n",
              "      <th></th>\n",
              "      <th>Title</th>\n",
              "      <th>Distributor</th>\n",
              "      <th>Worldwide gross</th>\n",
              "      <th>Revenue (millions)</th>\n",
              "    </tr>\n",
              "    <tr>\n",
              "      <th>Rank</th>\n",
              "      <th></th>\n",
              "      <th></th>\n",
              "      <th></th>\n",
              "      <th></th>\n",
              "    </tr>\n",
              "  </thead>\n",
              "  <tbody>\n",
              "    <tr>\n",
              "      <th>1</th>\n",
              "      <td>Toy Story 3</td>\n",
              "      <td>Disney</td>\n",
              "      <td>$1,066,969,703</td>\n",
              "      <td>1066.97</td>\n",
              "    </tr>\n",
              "    <tr>\n",
              "      <th>2</th>\n",
              "      <td>Alice in Wonderland</td>\n",
              "      <td>Disney</td>\n",
              "      <td>$1,025,467,110</td>\n",
              "      <td>1025.47</td>\n",
              "    </tr>\n",
              "    <tr>\n",
              "      <th>3</th>\n",
              "      <td>Harry Potter and the Deathly Hallows - Part 1</td>\n",
              "      <td>Warner Bros.</td>\n",
              "      <td>$976,536,918</td>\n",
              "      <td>976.54</td>\n",
              "    </tr>\n",
              "    <tr>\n",
              "      <th>4</th>\n",
              "      <td>Inception</td>\n",
              "      <td>Warner Bros.</td>\n",
              "      <td>$826,137,188</td>\n",
              "      <td>826.14</td>\n",
              "    </tr>\n",
              "    <tr>\n",
              "      <th>5</th>\n",
              "      <td>Shrek Forever After</td>\n",
              "      <td>Paramount</td>\n",
              "      <td>$752,600,867</td>\n",
              "      <td>752.60</td>\n",
              "    </tr>\n",
              "    <tr>\n",
              "      <th>6</th>\n",
              "      <td>The Twilight Saga: Eclipse</td>\n",
              "      <td>Summit</td>\n",
              "      <td>$698,491,347</td>\n",
              "      <td>698.49</td>\n",
              "    </tr>\n",
              "    <tr>\n",
              "      <th>7</th>\n",
              "      <td>Iron Man 2</td>\n",
              "      <td>Paramount</td>\n",
              "      <td>$623,933,331</td>\n",
              "      <td>623.93</td>\n",
              "    </tr>\n",
              "    <tr>\n",
              "      <th>8</th>\n",
              "      <td>Tangled</td>\n",
              "      <td>Disney</td>\n",
              "      <td>$592,461,732</td>\n",
              "      <td>592.46</td>\n",
              "    </tr>\n",
              "    <tr>\n",
              "      <th>9</th>\n",
              "      <td>Despicable Me</td>\n",
              "      <td>Universal</td>\n",
              "      <td>$543,113,985</td>\n",
              "      <td>543.11</td>\n",
              "    </tr>\n",
              "    <tr>\n",
              "      <th>10</th>\n",
              "      <td>How to Train Your Dragon</td>\n",
              "      <td>Paramount</td>\n",
              "      <td>$494,878,759</td>\n",
              "      <td>494.88</td>\n",
              "    </tr>\n",
              "  </tbody>\n",
              "</table>\n",
              "</div>\n",
              "      <button class=\"colab-df-convert\" onclick=\"convertToInteractive('df-65a6ce26-72d3-4441-9262-8aedc0ee9bc0')\"\n",
              "              title=\"Convert this dataframe to an interactive table.\"\n",
              "              style=\"display:none;\">\n",
              "        \n",
              "  <svg xmlns=\"http://www.w3.org/2000/svg\" height=\"24px\"viewBox=\"0 0 24 24\"\n",
              "       width=\"24px\">\n",
              "    <path d=\"M0 0h24v24H0V0z\" fill=\"none\"/>\n",
              "    <path d=\"M18.56 5.44l.94 2.06.94-2.06 2.06-.94-2.06-.94-.94-2.06-.94 2.06-2.06.94zm-11 1L8.5 8.5l.94-2.06 2.06-.94-2.06-.94L8.5 2.5l-.94 2.06-2.06.94zm10 10l.94 2.06.94-2.06 2.06-.94-2.06-.94-.94-2.06-.94 2.06-2.06.94z\"/><path d=\"M17.41 7.96l-1.37-1.37c-.4-.4-.92-.59-1.43-.59-.52 0-1.04.2-1.43.59L10.3 9.45l-7.72 7.72c-.78.78-.78 2.05 0 2.83L4 21.41c.39.39.9.59 1.41.59.51 0 1.02-.2 1.41-.59l7.78-7.78 2.81-2.81c.8-.78.8-2.07 0-2.86zM5.41 20L4 18.59l7.72-7.72 1.47 1.35L5.41 20z\"/>\n",
              "  </svg>\n",
              "      </button>\n",
              "      \n",
              "  <style>\n",
              "    .colab-df-container {\n",
              "      display:flex;\n",
              "      flex-wrap:wrap;\n",
              "      gap: 12px;\n",
              "    }\n",
              "\n",
              "    .colab-df-convert {\n",
              "      background-color: #E8F0FE;\n",
              "      border: none;\n",
              "      border-radius: 50%;\n",
              "      cursor: pointer;\n",
              "      display: none;\n",
              "      fill: #1967D2;\n",
              "      height: 32px;\n",
              "      padding: 0 0 0 0;\n",
              "      width: 32px;\n",
              "    }\n",
              "\n",
              "    .colab-df-convert:hover {\n",
              "      background-color: #E2EBFA;\n",
              "      box-shadow: 0px 1px 2px rgba(60, 64, 67, 0.3), 0px 1px 3px 1px rgba(60, 64, 67, 0.15);\n",
              "      fill: #174EA6;\n",
              "    }\n",
              "\n",
              "    [theme=dark] .colab-df-convert {\n",
              "      background-color: #3B4455;\n",
              "      fill: #D2E3FC;\n",
              "    }\n",
              "\n",
              "    [theme=dark] .colab-df-convert:hover {\n",
              "      background-color: #434B5C;\n",
              "      box-shadow: 0px 1px 3px 1px rgba(0, 0, 0, 0.15);\n",
              "      filter: drop-shadow(0px 1px 2px rgba(0, 0, 0, 0.3));\n",
              "      fill: #FFFFFF;\n",
              "    }\n",
              "  </style>\n",
              "\n",
              "      <script>\n",
              "        const buttonEl =\n",
              "          document.querySelector('#df-65a6ce26-72d3-4441-9262-8aedc0ee9bc0 button.colab-df-convert');\n",
              "        buttonEl.style.display =\n",
              "          google.colab.kernel.accessAllowed ? 'block' : 'none';\n",
              "\n",
              "        async function convertToInteractive(key) {\n",
              "          const element = document.querySelector('#df-65a6ce26-72d3-4441-9262-8aedc0ee9bc0');\n",
              "          const dataTable =\n",
              "            await google.colab.kernel.invokeFunction('convertToInteractive',\n",
              "                                                     [key], {});\n",
              "          if (!dataTable) return;\n",
              "\n",
              "          const docLinkHtml = 'Like what you see? Visit the ' +\n",
              "            '<a target=\"_blank\" href=https://colab.research.google.com/notebooks/data_table.ipynb>data table notebook</a>'\n",
              "            + ' to learn more about interactive tables.';\n",
              "          element.innerHTML = '';\n",
              "          dataTable['output_type'] = 'display_data';\n",
              "          await google.colab.output.renderOutput(dataTable, element);\n",
              "          const docLink = document.createElement('div');\n",
              "          docLink.innerHTML = docLinkHtml;\n",
              "          element.appendChild(docLink);\n",
              "        }\n",
              "      </script>\n",
              "    </div>\n",
              "  </div>\n",
              "  "
            ]
          },
          "metadata": {},
          "execution_count": 8
        }
      ]
    },
    {
      "cell_type": "markdown",
      "metadata": {
        "id": "lHYYZNCe-eM1"
      },
      "source": [
        "Can we programmatically compute how many entries were scored as top films?"
      ]
    },
    {
      "cell_type": "code",
      "metadata": {
        "id": "FfBjaH1U-hIh",
        "colab": {
          "base_uri": "https://localhost:8080/"
        },
        "outputId": "14faa00b-3660-47e9-b29b-7f78d0fa1bef"
      },
      "source": [
        "# You can use the Python len() function on a dataframe to figure out how many rows!\n",
        "\n",
        "# TODO: Update dataframe_length with your code here!\n",
        "dataframe_length = len(top_films)\n",
        "print(dataframe_length)"
      ],
      "execution_count": 9,
      "outputs": [
        {
          "output_type": "stream",
          "name": "stdout",
          "text": [
            "10\n"
          ]
        }
      ]
    },
    {
      "cell_type": "code",
      "metadata": {
        "id": "st8grxXxk1cy",
        "colab": {
          "base_uri": "https://localhost:8080/"
        },
        "outputId": "f56cbaaa-db2e-42a5-81af-04545fd32960"
      },
      "source": [
        "# Run this cell to submit to PennGrader!\n",
        "\n",
        "grader.grade(test_case_id = 'length_test', answer = dataframe_length)"
      ],
      "execution_count": 10,
      "outputs": [
        {
          "output_type": "stream",
          "name": "stdout",
          "text": [
            "Correct! You earned 4/4 points. You are a star!\n",
            "\n",
            "Your submission has been successfully recorded in the gradebook.\n"
          ]
        }
      ]
    },
    {
      "cell_type": "markdown",
      "metadata": {
        "id": "k5aP5_h8srJ9"
      },
      "source": [
        "Now we will copy the table over to **Apache Spark**, which is a big data engine capable of processing giant tables.\n",
        "\n",
        "We will **query** the table to get top films from Disney."
      ]
    },
    {
      "cell_type": "code",
      "metadata": {
        "id": "tUWgHOoBgF6K",
        "colab": {
          "base_uri": "https://localhost:8080/",
          "height": 71
        },
        "outputId": "7c70380e-11a5-47b4-db99-86bd9d7e51ed"
      },
      "source": [
        "from pyspark.sql.types import *\n",
        "\n",
        "# The 'schema' specifies the column names and data types\n",
        "schema = StructType([StructField('Title', StringType(), nullable=True), \\\n",
        "            StructField('Distributor', StringType(), nullable=False), \\\n",
        "            StructField('Gross', StringType(), nullable=False), \\\n",
        "            StructField('Revenue_M', DecimalType(), nullable=False)])\n",
        "\n",
        "# This loads a Pandas DataFrame into Apache Spark\n",
        "top_films_spark = spark.createDataFrame(top_films, \\\n",
        "                                         schema=schema)\n",
        "\n",
        "# Now use Spark to filter only those rows where the distributor is 'Disney'\n",
        "disney_films = top_films_spark.filter(top_films_spark.Distributor == 'Disney')\n",
        "display(disney_films.collect())"
      ],
      "execution_count": 11,
      "outputs": [
        {
          "output_type": "display_data",
          "data": {
            "text/plain": [
              "[Row(Title='Toy Story 3', Distributor='Disney', Gross='$1,066,969,703', Revenue_M=Decimal('1067')),\n",
              " Row(Title='Alice in Wonderland', Distributor='Disney', Gross='$1,025,467,110', Revenue_M=Decimal('1025')),\n",
              " Row(Title='Tangled', Distributor='Disney', Gross='$592,461,732', Revenue_M=Decimal('592'))]"
            ]
          },
          "metadata": {}
        }
      ]
    },
    {
      "cell_type": "markdown",
      "metadata": {
        "id": "CO7JiYf3gzbS"
      },
      "source": [
        "Congratulations, you have just run a very simple Spark program!\n",
        "\n",
        "## 2.2 Something a Little More Fun\n",
        "Running the cell below will create a scatter plot. \n",
        "\n",
        "**Your task is to edit this cell such that:***\n",
        "\n",
        "1. The text (which says “CIS 5450 student”) should be replaced with your full name.\n",
        "2. The number of values sampled should be 500, and you should  change the figure title to match!\n",
        "\n",
        "4. The x-axis should be labeled “Index”.\n",
        "\n",
        "You may run this cell repeatedly to see the output."
      ]
    },
    {
      "cell_type": "code",
      "metadata": {
        "id": "stqXhjIOMbOG",
        "colab": {
          "base_uri": "https://localhost:8080/",
          "height": 305
        },
        "outputId": "be3d6f61-c439-44a2-e7e0-941cc044d96a"
      },
      "source": [
        "# We’ll be using Matplotlib to plot a visualization\n",
        "%matplotlib inline\n",
        "\n",
        "import matplotlib.pyplot as plt\n",
        "import numpy as np\n",
        "\n",
        "# Create a Spark dataset with values 0 thru 499\n",
        "rdd = spark.sparkContext.parallelize(range(500))\n",
        "\n",
        "# TODO: Sample 500 values from the RDD\n",
        "y = np.array(rdd.takeSample(True, 500, 1))\n",
        "# Create an array with the indices\n",
        "x = np.array(range(len(y)))\n",
        "\n",
        "# Create a plot with a caption, X and Y legends, etc\n",
        "x_label = 'Index'\n",
        "y_label = 'Value'\n",
        "student = \"Vyaas Valsaraj\"\n",
        "\n",
        "plt.title(str(len(y)) + ' random samples from the RDD')\n",
        "plt.xlabel(x_label)\n",
        "plt.ylabel(y_label)\n",
        "plt.figtext(0.995, 0.01, student, ha='right', va='bottom')\n",
        "# Scatter plot that fits within the box\n",
        "plt.scatter(x, y)\n",
        "plt.tight_layout()\n",
        "\n",
        "# Now fit a trend line to the data and plot it over the scatter plot\n",
        "m, c = np.polyfit(x, y, 1)\n",
        "plt.plot(x, m*x + c)\n",
        "\n",
        "# Save the SVG\n",
        "plt.savefig('hw0.svg')"
      ],
      "execution_count": 12,
      "outputs": [
        {
          "output_type": "display_data",
          "data": {
            "text/plain": [
              "<Figure size 432x288 with 1 Axes>"
            ],
            "image/png": "[encoded data removed]"
          },
          "metadata": {
            "needs_background": "light"
          }
        }
      ]
    },
    {
      "cell_type": "markdown",
      "metadata": {
        "id": "daKoWpQZg7EJ"
      },
      "source": [
        "The following test cell prints your name and tests whether you followed the directions."
      ]
    },
    {
      "cell_type": "code",
      "metadata": {
        "id": "MXhK2uIFg2BJ",
        "colab": {
          "base_uri": "https://localhost:8080/"
        },
        "outputId": "1bb40fee-ed0a-4e45-ab8b-864fdabddc03"
      },
      "source": [
        "print(\"Your name is:\", student)\n",
        "\n",
        "# Run this cell to submit to PennGrader!\n",
        "grader.grade(test_case_id = 'name_test', answer = student)"
      ],
      "execution_count": 13,
      "outputs": [
        {
          "output_type": "stream",
          "name": "stdout",
          "text": [
            "Your name is: Vyaas Valsaraj\n",
            "Correct! You earned 4/4 points. You are a star!\n",
            "\n",
            "Your submission has been successfully recorded in the gradebook.\n"
          ]
        }
      ]
    },
    {
      "cell_type": "markdown",
      "metadata": {
        "id": "VzLJBEcl8r2X"
      },
      "source": [
        "Part 3: Submitting Your Homework\n",
        "\n",
        "First, note that it's easy to \"break\" your notebook by changing something...  So you should *ALWAYS* clear output and re-run your code, just to make sure that hasn't happened.\n",
        "\n",
        "When you are done, select the \"Runtime\" menu at the top of the window. Then, select \"Restart and run all\". Please make sure all cells complete!\n"
      ]
    },
    {
      "cell_type": "markdown",
      "metadata": {
        "id": "cvJC6H9k1gYD"
      },
      "source": [
        "## 3.1 Submission to Gradescope\n",
        "\n",
        "Now go to the File menu and choose \"Download .ipynb\" and also \"Download .py\".  Go to [Gradescope](https://www.gradescope.com/courses/408393) and:\n",
        "\n",
        "1. (If you didn't read the above carefully) from \"File\" --> Download *both* .ipynb and .py files\n",
        "1. Rename these downloaded files `homework0.ipynb` and `homework0.py`, respectively\n",
        "1. Sign in using your Penn email address (if you are a SEAS student we recommend using the Google login) and ensure  your class is \"BAN_CIS-5450-001 202230\"\n",
        "1. Select Homework 0\n",
        "1. Upload both files\n",
        "1. PLEASE CHECK THE AUTOGRADER OUTPUT TO ENSURE YOUR SUBMISSION IS PROCESSED CORRECTLY!\n",
        "\n",
        "You should be set! Note that this assignment has 8 autograded points and 2 manually graded points! The autograded points will show upon submission, but the manually graded portion will be graded by your TAs after the deadline has passed."
      ]
    }
  ]
}